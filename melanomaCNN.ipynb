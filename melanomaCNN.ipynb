{
 "cells": [
  {
   "cell_type": "code",
   "execution_count": 28,
   "metadata": {},
   "outputs": [],
   "source": [
    "import torch\n",
    "import torchvision\n",
    "import torchvision.transforms as transforms\n",
    "from torch.utils.data import DataLoader\n",
    "from torchvision.datasets import ImageFolder\n",
    "import torch.nn as nn\n",
    "import torch.optim as optim\n",
    "from tqdm import tqdm\n",
    "from sklearn.metrics import precision_score, recall_score, f1_score, confusion_matrix, roc_auc_score, accuracy_score, precision_recall_curve, auc\n",
    "import matplotlib.pyplot as plt\n",
    "from sklearn.metrics import roc_curve, auc\n",
    "from sklearn.isotonic import IsotonicRegression\n",
    "import numpy as np\n",
    "from scipy import interpolate\n"
   ]
  },
  {
   "cell_type": "code",
   "execution_count": 6,
   "metadata": {},
   "outputs": [],
   "source": [
    "# Setup device\n",
    "device = torch.device(\"cuda\" if torch.cuda.is_available() else \"cpu\")"
   ]
  },
  {
   "cell_type": "code",
   "execution_count": 7,
   "metadata": {},
   "outputs": [],
   "source": [
    "# Data preprocessing\n",
    "transform = transforms.Compose([\n",
    "    transforms.Resize((256, 256)),\n",
    "    transforms.ToTensor(),\n",
    "    transforms.Normalize(mean=[0.485, 0.456, 0.406], std=[0.229, 0.224, 0.225]),\n",
    "])"
   ]
  },
  {
   "cell_type": "code",
   "execution_count": 8,
   "metadata": {},
   "outputs": [],
   "source": [
    "# Load datasets\n",
    "train_data = ImageFolder(root='/Users/surajdhulipalla/Documents/SeniorSpring/BME436/GalvoSoftware/SkinCancerDiagnostic/melanoma_cancer_dataset/train', transform=transform)\n",
    "test_data = ImageFolder(root='/Users/surajdhulipalla/Documents/SeniorSpring/BME436/GalvoSoftware/SkinCancerDiagnostic/melanoma_cancer_dataset/test', transform=transform)\n"
   ]
  },
  {
   "cell_type": "code",
   "execution_count": 9,
   "metadata": {},
   "outputs": [],
   "source": [
    "# Data loaders\n",
    "train_loader = DataLoader(train_data, batch_size=32, shuffle=True, num_workers=4)\n",
    "test_loader = DataLoader(test_data, batch_size=32, shuffle=False, num_workers=4)"
   ]
  },
  {
   "cell_type": "code",
   "execution_count": 10,
   "metadata": {},
   "outputs": [],
   "source": [
    "# Define the CNN\n",
    "class SimpleCNN(nn.Module):\n",
    "    def __init__(self):\n",
    "        super(SimpleCNN, self).__init__()\n",
    "        self.conv1 = nn.Conv2d(3, 32, kernel_size=3, padding=1)\n",
    "        self.act1 = nn.ReLU()\n",
    "        self.pool1 = nn.MaxPool2d(2, 2)\n",
    "        self.conv2 = nn.Conv2d(32, 64, kernel_size=3, padding=1)\n",
    "        self.act2 = nn.ReLU()\n",
    "        self.pool2 = nn.MaxPool2d(2, 2)\n",
    "        self.fc1 = nn.Linear(64 * 64 * 64, 256)\n",
    "        self.act3 = nn.ReLU()\n",
    "        self.fc2 = nn.Linear(256, 2)\n",
    "\n",
    "    def forward(self, x):\n",
    "        x = self.pool1(self.act1(self.conv1(x)))\n",
    "        x = self.pool2(self.act2(self.conv2(x)))\n",
    "        x = torch.flatten(x, 1)  # Flatten all dimensions except the batch dimension\n",
    "        x = self.act3(self.fc1(x))\n",
    "        x = self.fc2(x)\n",
    "        return x"
   ]
  },
  {
   "cell_type": "code",
   "execution_count": 11,
   "metadata": {},
   "outputs": [],
   "source": [
    "# Initialize the network\n",
    "net = SimpleCNN().to(device)"
   ]
  },
  {
   "cell_type": "code",
   "execution_count": 12,
   "metadata": {},
   "outputs": [],
   "source": [
    "# Loss function and optimizer\n",
    "criterion = nn.CrossEntropyLoss()\n",
    "optimizer = optim.Adam(net.parameters(), lr=0.001)"
   ]
  },
  {
   "cell_type": "code",
   "execution_count": 14,
   "metadata": {},
   "outputs": [],
   "source": [
    "# Training the network\n",
    "def train(num_epochs):\n",
    "    for epoch in range(num_epochs):\n",
    "        net.train()\n",
    "        running_loss = 0.0\n",
    "        with tqdm(train_loader, unit=\"batch\") as tepoch:\n",
    "            for inputs, labels in tepoch:\n",
    "                tepoch.set_description(f\"Epoch {epoch + 1}\")\n",
    "                \n",
    "                inputs, labels = inputs.to(device), labels.to(device)\n",
    "\n",
    "                optimizer.zero_grad()\n",
    "\n",
    "                outputs = net(inputs)\n",
    "                loss = criterion(outputs, labels)\n",
    "                loss.backward()\n",
    "                optimizer.step()\n",
    "\n",
    "                running_loss += loss.item()\n",
    "                tepoch.set_postfix(loss=running_loss / len(tepoch))\n"
   ]
  },
  {
   "cell_type": "code",
   "execution_count": 15,
   "metadata": {},
   "outputs": [],
   "source": [
    "# Testing the network\n",
    "def test():\n",
    "    net.eval()\n",
    "    correct = 0\n",
    "    total = 0\n",
    "    with torch.no_grad():\n",
    "        with tqdm(test_loader, unit=\"batch\") as ttest:\n",
    "            for images, labels in ttest:\n",
    "                images, labels = images.to(device), labels.to(device)\n",
    "                outputs = net(images)\n",
    "                _, predicted = torch.max(outputs.data, 1)\n",
    "                total += labels.size(0)\n",
    "                correct += (predicted == labels).sum().item()\n",
    "                \n",
    "                ttest.set_postfix(accuracy=f'{100 * correct / total:.2f}%')\n",
    "\n",
    "    print(f'Accuracy of the network on the test images: {100 * correct / total}%')"
   ]
  },
  {
   "cell_type": "code",
   "execution_count": 16,
   "metadata": {},
   "outputs": [
    {
     "name": "stderr",
     "output_type": "stream",
     "text": [
      "Epoch 1: 100%|██████████| 301/301 [06:27<00:00,  1.29s/batch, loss=0.568]\n",
      "Epoch 2: 100%|██████████| 301/301 [06:45<00:00,  1.35s/batch, loss=0.249] \n",
      "Epoch 3: 100%|██████████| 301/301 [06:59<00:00,  1.39s/batch, loss=0.211] \n",
      "Epoch 4: 100%|██████████| 301/301 [06:46<00:00,  1.35s/batch, loss=0.17]  \n",
      "Epoch 5: 100%|██████████| 301/301 [06:46<00:00,  1.35s/batch, loss=0.139] \n",
      "Epoch 6: 100%|██████████| 301/301 [06:45<00:00,  1.35s/batch, loss=0.102] \n",
      "Epoch 7: 100%|██████████| 301/301 [06:32<00:00,  1.30s/batch, loss=0.0685]\n",
      "Epoch 8: 100%|██████████| 301/301 [06:25<00:00,  1.28s/batch, loss=0.0676]\n",
      "Epoch 9: 100%|██████████| 301/301 [06:38<00:00,  1.32s/batch, loss=0.0326]\n",
      "Epoch 10: 100%|██████████| 301/301 [06:59<00:00,  1.39s/batch, loss=0.0298] \n",
      "100%|██████████| 32/32 [00:33<00:00,  1.04s/batch, accuracy=90.50%]"
     ]
    },
    {
     "name": "stdout",
     "output_type": "stream",
     "text": [
      "Accuracy of the network on the test images: 90.5%\n"
     ]
    },
    {
     "name": "stderr",
     "output_type": "stream",
     "text": [
      "\n"
     ]
    }
   ],
   "source": [
    "train(num_epochs=10)\n",
    "test()"
   ]
  },
  {
   "cell_type": "code",
   "execution_count": 29,
   "metadata": {},
   "outputs": [],
   "source": [
    "def test_more():\n",
    "    net.eval()\n",
    "    all_preds = []\n",
    "    all_labels = []\n",
    "    with torch.no_grad():\n",
    "        for images, labels in test_loader:\n",
    "            images, labels = images.to(device), labels.to(device)\n",
    "            outputs = net(images)\n",
    "            _, predicted = torch.max(outputs, 1)\n",
    "            all_preds.extend(predicted.cpu().numpy())\n",
    "            all_labels.extend(labels.cpu().numpy())\n",
    "\n",
    "    # Calculate metrics\n",
    "    precision = precision_score(all_labels, all_preds)\n",
    "    recall = recall_score(all_labels, all_preds)\n",
    "    f1 = f1_score(all_labels, all_preds)\n",
    "    cm = confusion_matrix(all_labels, all_preds)\n",
    "    accuracy = accuracy_score(all_labels, all_preds)\n",
    "\n",
    "    print(f'Accuracy: {accuracy:.2f}')\n",
    "    print(f'Precision: {precision:.2f}')\n",
    "    print(f'Recall: {recall:.2f}')\n",
    "    print(f'F1 Score: {f1:.2f}')\n",
    "    print(f'Confusion Matrix:\\n{cm}')\n",
    "\n",
    "    # Sensitivity and Specificity calculations\n",
    "    TN = cm[0][0]\n",
    "    FP = cm[0][1]\n",
    "    FN = cm[1][0]\n",
    "    TP = cm[1][1]\n",
    "\n",
    "    sensitivity = TP / (TP + FN)  # Same as recall\n",
    "    specificity = TN / (TN + FP)\n",
    "\n",
    "    print(\"Sensitivity: {}\".format(sensitivity))\n",
    "    print(\"Specificity: {}\".format(specificity))\n",
    "\n",
    "    # Compute ROC AUC and PR AUC if applicable\n",
    "    if len(set(all_labels)) > 2:\n",
    "        roc_auc = roc_auc_score(all_labels, all_preds, multi_class='ovr')\n",
    "        print(f'ROC AUC: {roc_auc:.2f}')\n",
    "    else:\n",
    "        roc_auc = roc_auc_score(all_labels, all_preds)\n",
    "        precisions, recalls, _ = precision_recall_curve(all_labels, all_preds)\n",
    "        pr_auc = auc(recalls, precisions)\n",
    "        print(f'ROC AUC: {roc_auc:.2f}')\n",
    "        print(f'Precision-Recall AUC: {pr_auc:.2f}')\n",
    "        iso_reg = IsotonicRegression(out_of_bounds='clip')\n",
    "        all_outputs_calibrated = iso_reg.fit_transform(all_preds, all_labels)\n",
    "        # Compute ROC curve and ROC area\n",
    "        fpr, tpr, thresholds = roc_curve(all_labels, all_outputs_calibrated)\n",
    "        roc_auc = auc(fpr, tpr)\n",
    "        print(thresholds)\n",
    "\n",
    "        # Create an interpolation function based on the fpr, tpr\n",
    "        tpr_interp = interpolate.interp1d(fpr, tpr, kind='linear')\n",
    "        fpr_fine = np.linspace(0, 1, 300)  # Creating a fine resolution of FPR values\n",
    "        tpr_smooth = tpr_interp(fpr_fine)  # Use interpolation function to calculate smooth TPR\n",
    "\n",
    "        # Plot ROC curve\n",
    "        plt.figure()\n",
    "        plt.plot(fpr_fine, tpr_smooth, color='darkorange', lw=2, label=f'ROC curve (area = {roc_auc:.2f})')\n",
    "        plt.plot([0, 1], [0, 1], color='navy', lw=2, linestyle='--')\n",
    "        plt.xlim([0.0, 1.0])\n",
    "        plt.ylim([0.0, 1.05])\n",
    "        plt.xlabel('False Positive Rate')\n",
    "        plt.ylabel('True Positive Rate')\n",
    "        plt.title('Receiver Operating Characteristic')\n",
    "        plt.legend(loc=\"lower right\")\n",
    "        plt.show()\n",
    "    \n",
    "    return precision, recall, f1, cm, accuracy"
   ]
  },
  {
   "cell_type": "code",
   "execution_count": 30,
   "metadata": {},
   "outputs": [
    {
     "name": "stdout",
     "output_type": "stream",
     "text": [
      "Accuracy: 0.91\n",
      "Precision: 0.93\n",
      "Recall: 0.87\n",
      "F1 Score: 0.90\n",
      "Confusion Matrix:\n",
      "[[469  31]\n",
      " [ 64 436]]\n",
      "Sensitivity: 0.872\n",
      "Specificity: 0.938\n",
      "ROC AUC: 0.90\n",
      "Precision-Recall AUC: 0.93\n",
      "[       inf 0.93361884 0.12007505]\n"
     ]
    },
    {
     "data": {
      "image/png": "[encoded data removed]",
      "text/plain": [
       "<Figure size 640x480 with 1 Axes>"
      ]
     },
     "metadata": {},
     "output_type": "display_data"
    },
    {
     "data": {
      "text/plain": [
       "(0.9336188436830836,\n",
       " 0.872,\n",
       " 0.9017580144777663,\n",
       " array([[469,  31],\n",
       "        [ 64, 436]]),\n",
       " 0.905)"
      ]
     },
     "execution_count": 30,
     "metadata": {},
     "output_type": "execute_result"
    }
   ],
   "source": [
    "test_more()"
   ]
  }
 ],
 "metadata": {
  "kernelspec": {
   "display_name": "venv",
   "language": "python",
   "name": "python3"
  },
  "language_info": {
   "codemirror_mode": {
    "name": "ipython",
    "version": 3
   },
   "file_extension": ".py",
   "mimetype": "text/x-python",
   "name": "python",
   "nbconvert_exporter": "python",
   "pygments_lexer": "ipython3",
   "version": "3.11.5"
  },
  "orig_nbformat": 4
 },
 "nbformat": 4,
 "nbformat_minor": 2
}
